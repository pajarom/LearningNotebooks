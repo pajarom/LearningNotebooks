{
 "cells": [
  {
   "cell_type": "markdown",
   "metadata": {},
   "source": [
    "Description\n",
    "Using data to make informed decisions about how things may be in the future.\n",
    "\n",
    "Problem type\n",
    "Making predictions"
   ]
  },
  {
   "cell_type": "markdown",
   "metadata": {},
   "source": [
    "Description\n",
    "Grouping data based on common features.\n",
    "\n",
    "Problem type\n",
    "Categorizing things"
   ]
  },
  {
   "cell_type": "markdown",
   "metadata": {},
   "source": [
    "Description\n",
    "Identifying data that is different from the norm.\n",
    "\n",
    "Problem type\n",
    "Spotting something unusual"
   ]
  },
  {
   "cell_type": "markdown",
   "metadata": {},
   "source": [
    "Description\n",
    "Recognizing broader concepts and trends from categorized data.\n",
    "\n",
    "Problem type\n",
    "Identifying themes"
   ]
  },
  {
   "cell_type": "markdown",
   "metadata": {},
   "source": [
    "Description\n",
    "Identifying similar challenges across different entities—and using data and insights to find common solutions.\n",
    "\n",
    "Problem type\n",
    "Discovering connections"
   ]
  },
  {
   "cell_type": "markdown",
   "metadata": {},
   "source": [
    "Description\n",
    "Using historical data about what happened in the past to understand how likely it is to happen again.\n",
    "\n",
    "Problem type\n",
    "Finding patterns"
   ]
  }
 ],
 "metadata": {
  "language_info": {
   "name": "python"
  },
  "orig_nbformat": 4
 },
 "nbformat": 4,
 "nbformat_minor": 2
}
