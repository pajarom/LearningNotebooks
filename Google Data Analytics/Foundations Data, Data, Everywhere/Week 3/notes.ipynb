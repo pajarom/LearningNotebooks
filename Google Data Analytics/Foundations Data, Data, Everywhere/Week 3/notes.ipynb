{
 "cells": [
  {
   "cell_type": "markdown",
   "metadata": {},
   "source": [
    "Spreadsheets\n",
    "\n",
    "Software applications \n",
    "Structure data in a row and column format\n",
    "Organize information in cells\n",
    "Provide access to a limited amount of data\n",
    "Manual data entry\n",
    "Generally one user at a time\n",
    "Controlled by the user "
   ]
  },
  {
   "cell_type": "markdown",
   "metadata": {},
   "source": [
    "Databases \n",
    "\n",
    "Data stores - accessed using a query language (e.g. SQL)\n",
    "Structure data using rules and relationships\n",
    "Organize information in complex collections\n",
    "Provide access to huge amounts of data\n",
    "Strict and consistent data entry\n",
    "Multiple users \n",
    "Controlled by a database management system"
   ]
  }
 ],
 "metadata": {
  "language_info": {
   "name": "python"
  },
  "orig_nbformat": 4
 },
 "nbformat": 4,
 "nbformat_minor": 2
}
