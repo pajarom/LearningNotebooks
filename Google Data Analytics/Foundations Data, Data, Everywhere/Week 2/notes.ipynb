{
 "cells": [
  {
   "cell_type": "markdown",
   "metadata": {},
   "source": [
    "Description\n",
    "The qualities and characteristics associated with solving problems using facts\n",
    "\n",
    "Skill\n",
    "Analytical skills"
   ]
  },
  {
   "cell_type": "markdown",
   "metadata": {},
   "source": [
    "Description\n",
    "The analytical skill that involves breaking processes down into smaller steps and working with them in an orderly, logical way\n",
    "\n",
    "Skill\n",
    "A technical mindset"
   ]
  },
  {
   "cell_type": "markdown",
   "metadata": {},
   "source": [
    "Description\n",
    "The analytical skill that involves how you organize information\n",
    "\n",
    "Skill\n",
    "Data design"
   ]
  },
  {
   "cell_type": "markdown",
   "metadata": {},
   "source": [
    "Description\n",
    "The analytical skill that has to do with how you group things into categories\n",
    "\n",
    "Skill\n",
    "Understanding context"
   ]
  },
  {
   "cell_type": "markdown",
   "metadata": {},
   "source": [
    "Description\n",
    "The analytical skill that involves managing the processes and tools used in data analysis\n",
    "\n",
    "Skill\n",
    "Data strategy"
   ]
  }
 ],
 "metadata": {
  "language_info": {
   "name": "python"
  },
  "orig_nbformat": 4
 },
 "nbformat": 4,
 "nbformat_minor": 2
}
