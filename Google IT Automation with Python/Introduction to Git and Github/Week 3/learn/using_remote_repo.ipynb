{
 "cells": [
  {
   "cell_type": "markdown",
   "metadata": {},
   "source": [
    "working for remote"
   ]
  },
  {
   "cell_type": "markdown",
   "metadata": {},
   "source": [
    "root@DESKTOP-JFSC5GB:~/helath-check# git remote -v\n",
    "origin  https://github.com/weedstream/helath-check.git (fetch)\n",
    "origin  https://github.com/weedstream/helath-check.git (push)\n",
    "root@DESKTOP-JFSC5GB:~/helath-check# gi remote show origin\n",
    "gi: command not found\n",
    "root@DESKTOP-JFSC5GB:~/helath-check# git remote show origin\n",
    "Username for 'https://github.com': weedstream\n",
    "Password for 'https://weedstream@github.com':\n",
    "* remote origin\n",
    "  Fetch URL: https://github.com/weedstream/helath-check.git\n",
    "  Push  URL: https://github.com/weedstream/helath-check.git\n",
    "  HEAD branch: main\n",
    "  Remote branch:\n",
    "    main tracked\n",
    "  Local branch configured for 'git pull':\n",
    "    main merges with remote main\n",
    "  Local ref configured for 'git push':\n",
    "    main pushes to main (up to date)\n",
    "root@DESKTOP-JFSC5GB:~/helath-check# git branch -r\n",
    "  origin/HEAD -> origin/main\n",
    "  origin/main\n",
    "root@DESKTOP-JFSC5GB:~/helath-check# git status\n",
    "On branch main\n",
    "Your branch is up to date with 'origin/main'.\n",
    "\n",
    "nothing to commit, working tree clean\n",
    "root@DESKTOP-JFSC5GB:~/helath-check#"
   ]
  },
  {
   "cell_type": "markdown",
   "metadata": {},
   "source": [
    "fetching new changes"
   ]
  },
  {
   "cell_type": "markdown",
   "metadata": {},
   "source": [
    "root@DESKTOP-JFSC5GB:~/helath-check# git pull\n",
    "Already up to date.\n",
    "root@DESKTOP-JFSC5GB:~/helath-check# git log -p -1\n",
    "commit fddab3afbbe7e50ce23fcd9feb4495cd3a9c5933 (HEAD -> main, origin/main, origin/HEAD)\n",
    "Author: weedstream <dede.ipang426@gmail.com>\n",
    "Date:   Tue Aug 29 00:33:52 2023 +0700\n",
    "\n",
    "    Add one more line to README.md\n",
    "\n",
    "diff --git a/README.md b/README.md\n",
    "index 8bc5998..e13e5e7 100644\n",
    "--- a/README.md\n",
    "+++ b/README.md\n",
    "@@ -1,2 +1,4 @@\n",
    " # helath-check\n",
    " Script that check the health of my computers\n",
    "+\n",
    "+This repo will be populated with lots of fancy checks.\n",
    "root@DESKTOP-JFSC5GB:~/helath-check# git remote show origin\n",
    "* remote origin\n",
    "  Fetch URL: https://github.com/weedstream/helath-check.git\n",
    "  Push  URL: https://github.com/weedstream/helath-check.git\n",
    "  HEAD branch: main\n",
    "  Remote branch:\n",
    "    main tracked\n",
    "  Local branch configured for 'git pull':\n",
    "    main merges with remote main\n",
    "  Local ref configured for 'git push':\n",
    "    main pushes to main (up to date)\n",
    "root@DESKTOP-JFSC5GB:~/helath-check# git branch experimental\n",
    "root@DESKTOP-JFSC5GB:~/helath-check# git branch\n",
    "  experimental\n",
    "* main\n",
    "root@DESKTOP-JFSC5GB:~/helath-check# git remote show origin\n",
    "* remote origin\n",
    "  Fetch URL: https://github.com/weedstream/helath-check.git\n",
    "  Push  URL: https://github.com/weedstream/helath-check.git\n",
    "  HEAD branch: main\n",
    "  Remote branch:\n",
    "    main tracked\n",
    "  Local branch configured for 'git pull':\n",
    "    main merges with remote main\n",
    "  Local ref configured for 'git push':\n",
    "    main pushes to main (up to date)\n",
    "root@DESKTOP-JFSC5GB:~/helath-check# git checkout experimental\n",
    "Switched to branch 'experimental'\n",
    "root@DESKTOP-JFSC5GB:~/helath-check#"
   ]
  }
 ],
 "metadata": {
  "language_info": {
   "name": "python"
  },
  "orig_nbformat": 4
 },
 "nbformat": 4,
 "nbformat_minor": 2
}
