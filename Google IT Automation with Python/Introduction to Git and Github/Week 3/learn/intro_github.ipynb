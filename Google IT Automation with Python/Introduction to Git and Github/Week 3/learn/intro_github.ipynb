{
 "cells": [
  {
   "cell_type": "markdown",
   "metadata": {},
   "source": [
    "root@DESKTOP-JFSC5GB:~# git clone https://github.com/weedstream/helath-check.git\n",
    "Cloning into 'helath-check'...\n",
    "Username for 'https://github.com': weedstream\n",
    "Password for 'https://weedstream@github.com':\n",
    "remote: Enumerating objects: 3, done.\n",
    "remote: Counting objects: 100% (3/3), done.\n",
    "remote: Compressing objects: 100% (2/2), done.\n",
    "remote: Total 3 (delta 0), reused 0 (delta 0), pack-reused 0\n",
    "Receiving objects: 100% (3/3), done.\n",
    "root@DESKTOP-JFSC5GB:~# cd health-check\n",
    "-bash: cd: health-check: No such file or directory\n",
    "root@DESKTOP-JFSC5GB:~# cd health-checks\n",
    "-bash: cd: health-checks: No such file or directory\n",
    "root@DESKTOP-JFSC5GB:~# cd helath-check\n",
    "root@DESKTOP-JFSC5GB:~/helath-check# ls -l\n",
    "total 4\n",
    "-rw-r--r-- 1 root root 60 Aug 29 00:30 README.md\n",
    "root@DESKTOP-JFSC5GB:~/helath-check# code README.md\n",
    "root@DESKTOP-JFSC5GB:~/helath-check# git commit -a -m \"Add one more line to README.md\n",
    "\"\n",
    "[main fddab3a] Add one more line to README.md\n",
    " 1 file changed, 2 insertions(+)\n",
    "root@DESKTOP-JFSC5GB:~/helath-check# git push\n",
    "Username for 'https://github.com': weedstream\n",
    "Password for 'https://weedstream@github.com':\n",
    "Enumerating objects: 5, done.\n",
    "Counting objects: 100% (5/5), done.\n",
    "Delta compression using up to 8 threads\n",
    "Compressing objects: 100% (2/2), done.\n",
    "Writing objects: 100% (3/3), 354 bytes | 354.00 KiB/s, done.\n",
    "Total 3 (delta 0), reused 0 (delta 0), pack-reused 0\n",
    "To https://github.com/weedstream/helath-check.git\n",
    "   7d61017..fddab3a  main -> main\n",
    "root@DESKTOP-JFSC5GB:~/helath-check# git config --global credential.helper cache\n",
    "root@DESKTOP-JFSC5GB:~/helath-check# git pull\n",
    "Username for 'https://github.com': weedstream\n",
    "Password for 'https://weedstream@github.com':\n",
    "Already up to date.\n",
    "root@DESKTOP-JFSC5GB:~/helath-check# git pull\n",
    "Already up to date.\n",
    "root@DESKTOP-JFSC5GB:~/helath-check#"
   ]
  }
 ],
 "metadata": {
  "language_info": {
   "name": "python"
  },
  "orig_nbformat": 4
 },
 "nbformat": 4,
 "nbformat_minor": 2
}
