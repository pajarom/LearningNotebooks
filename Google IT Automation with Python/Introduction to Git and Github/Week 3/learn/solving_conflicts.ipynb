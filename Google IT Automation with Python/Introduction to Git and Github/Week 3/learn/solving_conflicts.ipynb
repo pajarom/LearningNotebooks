{
 "cells": [
  {
   "cell_type": "markdown",
   "metadata": {},
   "source": [
    "pushing remote branch"
   ]
  },
  {
   "cell_type": "markdown",
   "metadata": {},
   "source": [
    "root@DESKTOP-JFSC5GB:~/helath-check# git checkout -b refactor\n",
    "Switched to a new branch 'refactor'\n",
    "root@DESKTOP-JFSC5GB:~/helath-check# ./all-checks.py\n",
    "-bash: ./all-checks.py: No such file or directory\n",
    "root@DESKTOP-JFSC5GB:~/helath-check# ./all_checks.py\n",
    "Everything ok.\n",
    "root@DESKTOP-JFSC5GB:~/helath-check# git commit -a -m 'create wrapper function for check_disk_full'\n",
    "[refactor 43a8781] create wrapper function for check_disk_full\n",
    " 1 file changed, 31 insertions(+)\n",
    " create mode 100755 all_checks.py\n",
    "root@DESKTOP-JFSC5GB:~/helath-check# ./all_checks.py\n",
    "Everything ok.\n",
    "root@DESKTOP-JFSC5GB:~/helath-check# git commit -a -m 'create wrapper func\n",
    "tion for check_disk_full'\n",
    "[refactor 91dfba9] create wrapper function for check_disk_full\n",
    " 1 file changed, 7 insertions(+)\n",
    "root@DESKTOP-JFSC5GB:~/helath-check# ./all_checks.py\n",
    "Everything ok.\n",
    "root@DESKTOP-JFSC5GB:~/helath-check# git commit -a -m 'Iterate over a list\n",
    "checks and message to avoid code duplication'\n",
    "[refactor e83c053] Iterate over a listchecks and message to avoid code duplication\n",
    " 1 file changed, 9 insertions(+), 8 deletions(-)\n",
    "root@DESKTOP-JFSC5GB:~/helath-check# git status\n",
    "On branch refactor\n",
    "nothing to commit, working tree clean\n",
    "root@DESKTOP-JFSC5GB:~/helath-check# ./all_checks.py\n",
    "Everything ok.\n",
    "root@DESKTOP-JFSC5GB:~/helath-check# git commit -a -m 'Allow printing more than one error message'\n",
    "[refactor d8e8497] Allow printing more than one error message\n",
    " 1 file changed, 6 insertions(+), 1 deletion(-)\n",
    "root@DESKTOP-JFSC5GB:~/helath-check# git push -u origin refactor\n",
    "Username for 'https://github.com': weedstream\n",
    "Password for 'https://weedstream@github.com':\n",
    "Enumerating objects: 13, done.\n",
    "Counting objects: 100% (13/13), done.\n",
    "Delta compression using up to 8 threads\n",
    "Compressing objects: 100% (12/12), done.\n",
    "Writing objects: 100% (12/12), 1.75 KiB | 1.75 MiB/s, done.\n",
    "Total 12 (delta 3), reused 0 (delta 0), pack-reused 0\n",
    "remote: Resolving deltas: 100% (3/3), done.\n",
    "remote:\n",
    "remote: Create a pull request for 'refactor' on GitHub by visiting:\n",
    "remote:      https://github.com/weedstream/helath-check/pull/new/refactor\n",
    "remote:\n",
    "To https://github.com/weedstream/helath-check.git\n",
    " * [new branch]      refactor -> refactor\n",
    "Branch 'refactor' set up to track remote branch 'refactor' from 'origin'.\n",
    "root@DESKTOP-JFSC5GB:~/helath-check#"
   ]
  },
  {
   "cell_type": "markdown",
   "metadata": {},
   "source": []
  }
 ],
 "metadata": {
  "language_info": {
   "name": "python"
  },
  "orig_nbformat": 4
 },
 "nbformat": 4,
 "nbformat_minor": 2
}
