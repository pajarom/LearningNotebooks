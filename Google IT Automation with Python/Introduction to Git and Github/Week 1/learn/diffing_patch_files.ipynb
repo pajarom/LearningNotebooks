{
 "cells": [
  {
   "cell_type": "markdown",
   "metadata": {},
   "source": [
    "rearrange_1"
   ]
  },
  {
   "cell_type": "code",
   "execution_count": null,
   "metadata": {},
   "outputs": [],
   "source": [
    "#!/user/bin/env python3\n",
    "\n",
    "import re\n",
    "def rearrange_name(name):\n",
    "    result = re.search(r\"^([\\w .]*), ([\\w .]*)$\", name)\n",
    "    if result is None:\n",
    "        return name\n",
    "    return \"{} {}\".format(result[2], result[1])"
   ]
  },
  {
   "cell_type": "markdown",
   "metadata": {},
   "source": [
    "rearrange_2"
   ]
  },
  {
   "cell_type": "code",
   "execution_count": null,
   "metadata": {},
   "outputs": [],
   "source": [
    "#!/user/bin/env python3\n",
    "\n",
    "import re\n",
    "def rearrange_name(name):\n",
    "    result = re.search(r\"^([\\w .]*), ([\\w .-]*)$\", name)\n",
    "    if result is None:\n",
    "        return name\n",
    "    return \"{} {}\".format(result[2], result[1])"
   ]
  },
  {
   "cell_type": "markdown",
   "metadata": {},
   "source": [
    "diff rearrange_1 rearrange_2"
   ]
  },
  {
   "cell_type": "markdown",
   "metadata": {},
   "source": [
    "5c5\n",
    "<     result = re.search(r\"^([\\w .]*), ([\\w .]*)$\", name)\n",
    "---\n",
    ">     result = re.search(r\"^([\\w .]*), ([\\w .-]*)$\", name)"
   ]
  },
  {
   "cell_type": "markdown",
   "metadata": {},
   "source": [
    "diff -u rearrange_1 rearrange_2"
   ]
  },
  {
   "cell_type": "markdown",
   "metadata": {},
   "source": [
    "5c5\n",
    "<     result = re.search(r\"^([\\w .]*), ([\\w .]*)$\", name)\n",
    "---\n",
    ">     result = re.search(r\"^([\\w .]*), ([\\w .-]*)$\", name)\n",
    "root@DESKTOP-JFSC5GB:~# diff -u rearrange_1.py rearrange_2.py\n",
    "--- rearrange_1.py      2023-08-28 07:55:01.256666054 +0700\n",
    "+++ rearrange_2.py      2023-08-28 07:55:13.676662820 +0700\n",
    "@@ -2,7 +2,7 @@\n",
    "\n",
    " import re\n",
    " def rearrange_name(name):\n",
    "-    result = re.search(r\"^([\\w .]*), ([\\w .]*)$\", name)\n",
    "+    result = re.search(r\"^([\\w .]*), ([\\w .-]*)$\", name)\n",
    "     if result is None:\n",
    "         return name\n",
    "     return \"{} {}\".format(result[2], result[1])"
   ]
  },
  {
   "cell_type": "markdown",
   "metadata": {},
   "source": [
    "applying changes\n",
    "\n",
    "diff -u old_file new_file > change.diff"
   ]
  },
  {
   "cell_type": "code",
   "execution_count": null,
   "metadata": {},
   "outputs": [],
   "source": [
    "#!/usr/bin/env python3\n",
    "import psutil\n",
    "\n",
    "def check_cpu_usage(percent):\n",
    "    usage = psutil.cpu_percent()\n",
    "    return usage < percent\n",
    "if not check_cpu_usage(75):\n",
    "    print(\"ERROR! CPU is overloaded\")\n",
    "else:\n",
    "    print(\"Everything ok\")"
   ]
  },
  {
   "cell_type": "markdown",
   "metadata": {},
   "source": [
    "patching files\n",
    "\n",
    "patch file_name < file_name.diff"
   ]
  },
  {
   "cell_type": "markdown",
   "metadata": {},
   "source": [
    "pratical application of diff and patch"
   ]
  },
  {
   "cell_type": "markdown",
   "metadata": {},
   "source": [
    "disk_usage"
   ]
  },
  {
   "cell_type": "code",
   "execution_count": null,
   "metadata": {},
   "outputs": [],
   "source": [
    "#!/usr/bin/env python3\n",
    "import shutil\n",
    "def check_disk_usage(disk, min_absolute, min_percent):\n",
    "    du = shutil.disk_usage(disk)\n",
    "    # Calculate the percentage of free space\n",
    "    percent_free = 100 * du.free / du.total\n",
    "    # Calculate how many free gigabytes\n",
    "    gigabytes_free = du.free / 2**30\n",
    "    if percent_free < min_percent or gigabytes_free < min_absolute:\n",
    "        return False\n",
    "    return True\n",
    "if not check_disk_usage(\"/\", 2*2**30, 10):\n",
    "    print(\"ERROR! Not enough disk space\")\n",
    "    return 1\n",
    "print(\"Everything ok\")\n",
    "return 0"
   ]
  },
  {
   "cell_type": "markdown",
   "metadata": {},
   "source": [
    "disk_usage_fixed"
   ]
  },
  {
   "cell_type": "code",
   "execution_count": null,
   "metadata": {},
   "outputs": [],
   "source": [
    "#!/usr/bin/env python3\n",
    "import shutil\n",
    "import sys\n",
    "def check_disk_usage(disk, min_absolute, min_percent):\n",
    "    du = shutil.disk_usage(disk)\n",
    "    # Calculate the percentage of free space\n",
    "    percent_free = 100 * du.free / du.total\n",
    "    # Calculate how many free gigabytes\n",
    "    gigabytes_free = du.free / 2**30\n",
    "    if percent_free < min_percent or gigabytes_free < min_absolute:\n",
    "        return False\n",
    "    return True\n",
    "if not check_disk_usage(\"/\", 2, 10):\n",
    "    print(\"ERROR! Not enough disk space\")\n",
    "    sys.exit(1)\n",
    "print(\"Everything ok\")\n",
    "sys.exit(0)"
   ]
  },
  {
   "cell_type": "markdown",
   "metadata": {},
   "source": [
    "diff -u disk_usage_original.py disk_usage_fixed.py > disk_usage.diff"
   ]
  },
  {
   "cell_type": "markdown",
   "metadata": {},
   "source": [
    "cat disk_usage.diff\n",
    "\n",
    "--- disk_usage_original.py      2023-08-28 08:37:33.326136787 +0700\n",
    "+++ disk_usage_fixed.py 2023-08-28 08:41:15.856087851 +0700\n",
    "@@ -1,5 +1,6 @@\n",
    " #!/usr/bin/env python3\n",
    " import shutil\n",
    "+import sys\n",
    " def check_disk_usage(disk, min_absolute, min_percent):\n",
    "     du = shutil.disk_usage(disk)\n",
    "     # Calculate the percentage of free space\n",
    "@@ -9,8 +10,8 @@\n",
    "     if percent_free < min_percent or gigabytes_free < min_absolute:\n",
    "         return False\n",
    "     return True\n",
    "-if not check_disk_usage(\"/\", 2*2**30, 10):\n",
    "+if not check_disk_usage(\"/\", 2, 10):\n",
    "     print(\"ERROR! Not enough disk space\")\n",
    "-    return 1\n",
    "+    sys.exit(1)\n",
    " print(\"Everything ok\")\n",
    "-return 0\n",
    "+sys.exit(0)"
   ]
  },
  {
   "cell_type": "markdown",
   "metadata": {},
   "source": [
    "patch disk_usage.py < disk_usage.diff"
   ]
  }
 ],
 "metadata": {
  "language_info": {
   "name": "python"
  },
  "orig_nbformat": 4
 },
 "nbformat": 4,
 "nbformat_minor": 2
}
