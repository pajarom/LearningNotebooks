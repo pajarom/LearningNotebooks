{
 "cells": [
  {
   "cell_type": "code",
   "execution_count": 20,
   "metadata": {},
   "outputs": [
    {
     "name": "stdout",
     "output_type": "stream",
     "text": [
      "True\n",
      "False\n",
      "False\n",
      "False\n"
     ]
    }
   ],
   "source": [
    "import re\n",
    "\n",
    "def repeating_letter_a(text):\n",
    "  result = re.search(r\"a.a\", text)\n",
    "  return result != None\n",
    "print(repeating_letter_a(\"banana\"))\n",
    "print(repeating_letter_a(\"pineapple\"))\n",
    "print(repeating_letter_a(\"Animal Kingdom\"))\n",
    "print(repeating_letter_a(\"A is for apple\"))"
   ]
  },
  {
   "cell_type": "code",
   "execution_count": 5,
   "metadata": {},
   "outputs": [
    {
     "name": "stdout",
     "output_type": "stream",
     "text": [
      "False\n",
      "True\n",
      "True\n",
      "False\n"
     ]
    }
   ],
   "source": [
    "import re\n",
    "def check_character_groups(text):\n",
    "  result = re.search(r\"\\w\\s\\w\", text)\n",
    "  return result != None\n",
    "print(check_character_groups(\"One\"))\n",
    "print(check_character_groups(\"123  Ready Set GO\"))\n",
    "print(check_character_groups(\"username user_01\"))\n",
    "print(check_character_groups(\"shopping_list: milk, bread, eggs.\"))"
   ]
  }
 ],
 "metadata": {
  "kernelspec": {
   "display_name": "Python 3",
   "language": "python",
   "name": "python3"
  },
  "language_info": {
   "codemirror_mode": {
    "name": "ipython",
    "version": 3
   },
   "file_extension": ".py",
   "mimetype": "text/x-python",
   "name": "python",
   "nbconvert_exporter": "python",
   "pygments_lexer": "ipython3",
   "version": "3.11.4"
  },
  "orig_nbformat": 4
 },
 "nbformat": 4,
 "nbformat_minor": 2
}
