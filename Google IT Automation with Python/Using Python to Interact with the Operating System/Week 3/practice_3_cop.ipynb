{
 "cells": [
  {
   "cell_type": "code",
   "execution_count": 2,
   "metadata": {},
   "outputs": [],
   "source": [
    "import re"
   ]
  },
  {
   "cell_type": "markdown",
   "metadata": {},
   "source": [
    "[1]"
   ]
  },
  {
   "cell_type": "code",
   "execution_count": 4,
   "metadata": {},
   "outputs": [
    {
     "name": "stdout",
     "output_type": "stream",
     "text": [
      "Sabrina Green,+1-802-867-5309,System Administrator\n",
      "Eli Jones,684-3481127,IT specialist\n",
      "Melody Daniels,+1-846-687-7436,Programmer\n",
      "Charlie Rivera,+1-698-746-3357,Web Developer\n"
     ]
    }
   ],
   "source": [
    "def transform_record(record):\n",
    "    new_record = re.sub(r'(\\d{3}-\\d{3}-\\d{4})', r'+1-\\1', record)\n",
    "    return new_record\n",
    "print(transform_record(\"Sabrina Green,802-867-5309,System Administrator\"))\n",
    "# Should print Sabrina Green,+1-802-867-5309,System Administrator\n",
    "print(transform_record(\"Eli Jones,684-3481127,IT specialist\"))\n",
    "# Should print Eli Jones,+1-684-3481127,IT specialist\n",
    "print(transform_record(\"Melody Daniels,846-687-7436,Programmer\"))\n",
    "# Should print Melody Daniels,+1-846-687-7436,Programmer\n",
    "print(transform_record(\"Charlie Rivera,698-746-3357,Web Developer\"))\n",
    "# Should print Charlie Rivera,+1-698-746-3357,Web Developer\n"
   ]
  },
  {
   "cell_type": "markdown",
   "metadata": {},
   "source": [
    "[2]"
   ]
  },
  {
   "cell_type": "code",
   "execution_count": 4,
   "metadata": {},
   "outputs": [
    {
     "name": "stdout",
     "output_type": "stream",
     "text": [
      "['beautiful']\n",
      "['Obviously', 'queen', 'courageous', 'gracious']\n",
      "['rambunctious', 'quietly', 'delicious']\n",
      "['queue']\n",
      "[]\n"
     ]
    }
   ],
   "source": [
    "def multi_vowel_words(text):\n",
    "    pattern = r'\\w*[aeiou]{3,}\\w*'\n",
    "    result = re.findall(pattern, text)\n",
    "    return result\n",
    "print(multi_vowel_words(\"Life is beautiful\"))\n",
    "# Should print ['beautiful']\n",
    "print(multi_vowel_words(\"Obviously, the queen is courageous and gracious.\"))\n",
    "# Should print ['Obviously', 'queen', 'courageous', 'gracious']\n",
    "print(multi_vowel_words(\"The rambunctious children had to sit quietly and await their delicious dinner.\"))\n",
    "# Should print ['rambunctious', 'quietly', 'delicious']\n",
    "print(multi_vowel_words(\"The order of a data queue is First In First Out (FIFO)\"))\n",
    "# Should print ['queue']\n",
    "print(multi_vowel_words(\"Hello world!\"))\n",
    "# Should print []"
   ]
  },
  {
   "cell_type": "markdown",
   "metadata": {},
   "source": [
    "[4]"
   ]
  },
  {
   "cell_type": "code",
   "execution_count": 5,
   "metadata": {},
   "outputs": [
    {
     "name": "stdout",
     "output_type": "stream",
     "text": [
      "// Start of program\n",
      "  number = 0   // Initialize the variable\n",
      "  number += 1   // Increment the variable\n",
      "  return(number)\n"
     ]
    }
   ],
   "source": [
    "def transform_comments(line_of_code):\n",
    "    result = re.sub(r'#*$', r'//', line_of_code)\n",
    "    return result\n",
    "print(transform_comments(\"### Start of program\"))\n",
    "# Should be \"// Start of program\"\n",
    "print(transform_comments(\"  number = 0   ## Initialize the variable\"))\n",
    "# Should be \"  number = 0   // Initialize the variable\"\n",
    "print(transform_comments(\"  number += 1   # Increment the variable\"))\n",
    "# Should be \"  number += 1   // Increment the variable\"\n",
    "print(transform_comments(\"  return(number)\"))\n",
    "# Should be \"  return(number)\""
   ]
  },
  {
   "cell_type": "markdown",
   "metadata": {},
   "source": [
    "[5]"
   ]
  },
  {
   "cell_type": "code",
   "execution_count": 6,
   "metadata": {},
   "outputs": [
    {
     "name": "stdout",
     "output_type": "stream",
     "text": [
      "My number is (212) 345-9999.\n",
      "Please call (888) 555-1234\n",
      "123-123-12345\n",
      "Phone number of Buckingham Palace is +44 303 123 7300\n"
     ]
    }
   ],
   "source": [
    "def convert_phone_number(phone):\n",
    "    result = re.sub(r'\\b(\\d{3})-(\\d{3})-(\\d{4})\\b', r'(\\1) \\2-\\3', phone)\n",
    "    return result\n",
    "print(convert_phone_number(\"My number is 212-345-9999.\")) # Should be \"My number is (212) 345-9999.\"\n",
    "print(convert_phone_number(\"Please call 888-555-1234\")) # Should be \"Please call (888) 555-1234\"\n",
    "print(convert_phone_number(\"123-123-12345\")) # Should be \"123-123-12345\"\n",
    "print(convert_phone_number(\"Phone number of Buckingham Palace is +44 303 123 7300\")) # Should be \"Phone number of Buckingham Palace is +44 303 123 7300\""
   ]
  }
 ],
 "metadata": {
  "kernelspec": {
   "display_name": "Python 3",
   "language": "python",
   "name": "python3"
  },
  "language_info": {
   "codemirror_mode": {
    "name": "ipython",
    "version": 3
   },
   "file_extension": ".py",
   "mimetype": "text/x-python",
   "name": "python",
   "nbconvert_exporter": "python",
   "pygments_lexer": "ipython3",
   "version": "3.11.4"
  },
  "orig_nbformat": 4
 },
 "nbformat": 4,
 "nbformat_minor": 2
}
