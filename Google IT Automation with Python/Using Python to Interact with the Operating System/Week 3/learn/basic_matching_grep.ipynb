{
 "cells": [
  {
   "cell_type": "markdown",
   "metadata": {},
   "source": [
    "buat cari file di direktori pake inisial \"thon\"\n",
    "\n",
    "grep thon /usr/share/dict/words\n",
    "\n",
    "grep -i python /usr/share/dict/words\n",
    "\n",
    "grep l.rts /usr/share/dict/words\n",
    "a'lerts'\n",
    "b'lurts'\n",
    "f'lirts'\n",
    "\n",
    "grep ^fruit /usr/share/dict/words\n",
    "fruit\n",
    "'fruit'cake\n",
    "'fruit'ed\n",
    "\n",
    "grep cat$ /usr/share/dict/words\n",
    "mus'cat'\n",
    "bob'cat'\n",
    "\n"
   ]
  }
 ],
 "metadata": {
  "kernelspec": {
   "display_name": "Python 3",
   "language": "python",
   "name": "python3"
  },
  "language_info": {
   "name": "python",
   "version": "3.11.4"
  },
  "orig_nbformat": 4
 },
 "nbformat": 4,
 "nbformat_minor": 2
}
