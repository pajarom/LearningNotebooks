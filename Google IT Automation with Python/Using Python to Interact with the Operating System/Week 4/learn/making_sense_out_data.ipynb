{
 "cells": [
  {
   "cell_type": "code",
   "execution_count": null,
   "metadata": {},
   "outputs": [],
   "source": [
    "import re\n",
    "import sys"
   ]
  },
  {
   "cell_type": "code",
   "execution_count": 1,
   "metadata": {},
   "outputs": [
    {
     "name": "stdout",
     "output_type": "stream",
     "text": [
      "{'good_user': 1}\n"
     ]
    }
   ],
   "source": [
    "usernames = {}\n",
    "name = \"good_user\"\n",
    "usernames[name] = usernames.get(name, 0) + 1\n",
    "print(usernames)"
   ]
  },
  {
   "cell_type": "code",
   "execution_count": 2,
   "metadata": {},
   "outputs": [
    {
     "name": "stdout",
     "output_type": "stream",
     "text": [
      "{'good_user': 2}\n"
     ]
    }
   ],
   "source": [
    "usernames[name] = usernames.get(name, 0) + 1\n",
    "print(usernames)"
   ]
  },
  {
   "cell_type": "code",
   "execution_count": null,
   "metadata": {},
   "outputs": [],
   "source": [
    "log_file = sys.argv[1]\n",
    "usernames = {}\n",
    "with open(log_file) as f:\n",
    "    for line in f:\n",
    "        if \"CRON\" not in line:\n",
    "            continue\n",
    "        pattern = r\"USER \\((\\w+)\\)$\"\n",
    "        result = re.search(pattern, line)\n",
    "        if result is None:\n",
    "            continue\n",
    "        name = result[1]\n",
    "        usernames[name] = usernames.get(name, 0) + 1\n",
    "print(usernames)"
   ]
  }
 ],
 "metadata": {
  "kernelspec": {
   "display_name": "Python 3",
   "language": "python",
   "name": "python3"
  },
  "language_info": {
   "codemirror_mode": {
    "name": "ipython",
    "version": 3
   },
   "file_extension": ".py",
   "mimetype": "text/x-python",
   "name": "python",
   "nbconvert_exporter": "python",
   "pygments_lexer": "ipython3",
   "version": "3.11.4"
  },
  "orig_nbformat": 4
 },
 "nbformat": 4,
 "nbformat_minor": 2
}
