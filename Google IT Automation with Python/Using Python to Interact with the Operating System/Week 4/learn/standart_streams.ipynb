{
 "cells": [
  {
   "cell_type": "markdown",
   "metadata": {},
   "source": [
    "I/O streams\n",
    "The basic mechanism for performing input and output operations in yout programs\n",
    "\n",
    "standart input      STDIN\n",
    "standart output     STDOUT\n",
    "standart error      STDERR"
   ]
  },
  {
   "cell_type": "code",
   "execution_count": 4,
   "metadata": {},
   "outputs": [
    {
     "name": "stdout",
     "output_type": "stream",
     "text": [
      "Welcome to this time converter\n",
      "That's 3723 seconds\n",
      "\n",
      "That's 18185 seconds\n",
      "\n",
      "Good bye!\n"
     ]
    }
   ],
   "source": [
    "def to_seconds(hours, minutes, seconds):\n",
    "    return hours*3600+minutes*60+seconds\n",
    "print(\"Welcome to this time converter\")\n",
    "\n",
    "cont = \"y\"\n",
    "while(cont.lower() == \"y\"):\n",
    "    hours = int(input(\"Enter the number of hours: \"))\n",
    "    minutes = int(input(\"Enter the number of minutes: \"))\n",
    "    seconds = int(input(\"Enter the number of seconds: \"))\n",
    "    print(\"That's {} seconds\".format(to_seconds(hours, minutes, seconds)))\n",
    "    print()\n",
    "    cont = input(\"Do you want to do another conversion? [y to continue] \")\n",
    "print(\"Good bye!\")"
   ]
  },
  {
   "cell_type": "code",
   "execution_count": null,
   "metadata": {},
   "outputs": [],
   "source": [
    "data = input(\"This will come from STDIN: \")\n",
    "print(\"Now we write it to STDOUT: \" + data)\n",
    "print(\"Now we generate an error to STDERR: \" + data + 1)"
   ]
  }
 ],
 "metadata": {
  "kernelspec": {
   "display_name": "Python 3",
   "language": "python",
   "name": "python3"
  },
  "language_info": {
   "codemirror_mode": {
    "name": "ipython",
    "version": 3
   },
   "file_extension": ".py",
   "mimetype": "text/x-python",
   "name": "python",
   "nbconvert_exporter": "python",
   "pygments_lexer": "ipython3",
   "version": "3.11.4"
  },
  "orig_nbformat": 4
 },
 "nbformat": 4,
 "nbformat_minor": 2
}
