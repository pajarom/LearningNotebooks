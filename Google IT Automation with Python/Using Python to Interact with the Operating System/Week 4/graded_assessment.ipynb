{
 "cells": [
  {
   "cell_type": "markdown",
   "metadata": {},
   "source": [
    "cat ~/data/fishy.log\n",
    "\n",
    "cd ~/scripts\n",
    "\n",
    "nano find_error.py"
   ]
  },
  {
   "cell_type": "code",
   "execution_count": 1,
   "metadata": {},
   "outputs": [],
   "source": [
    "#!/usr/bin/env python3\n",
    "import sys\n",
    "import os\n",
    "import re\n"
   ]
  },
  {
   "cell_type": "code",
   "execution_count": null,
   "metadata": {},
   "outputs": [],
   "source": [
    "def error_search(log_file):\n",
    "    error = input(\"What is the error? \")\n",
    "    returned_errors = []\n",
    "    with open(log_file, mode='r',encoding='UTF-8') as file:\n",
    "        for log in  file.readlines():\n",
    "          error_patterns = [\"error\"]\n",
    "          for i in range(len(error.split(' '))):\n",
    "            error_patterns.append(r\"{}\".format(error.split(' ')[i].lower()))\n",
    "          if all(re.search(error_pattern, log.lower()) for error_pattern in error_patterns):\n",
    "            returned_errors.append(log)\n",
    "        file.close()\n",
    "    return returned_errors\n",
    "def file_output(returned_errors):\n",
    "    with open(os.path.expanduser('~') + '/data/errors_found.log', 'w') as file:\n",
    "      for error in returned_errors:\n",
    "        file.write(error)\n",
    "      file.close()\n",
    "if __name__ == \"__main__\":\n",
    "  log_file = sys.argv[1]\n",
    "  returned_errors = error_search(log_file)\n",
    "  file_output(returned_errors)\n",
    "  sys.exit(0)\n",
    "    "
   ]
  },
  {
   "cell_type": "markdown",
   "metadata": {},
   "source": [
    "sudo chmod +x find_error.py\n",
    "\n",
    "./find_error.py ~/data/fishy.log\n",
    "\n",
    "CRON ERROR Failed to start\n",
    "\n",
    "cat ~/data/errors_found.log"
   ]
  }
 ],
 "metadata": {
  "kernelspec": {
   "display_name": "Python 3",
   "language": "python",
   "name": "python3"
  },
  "language_info": {
   "codemirror_mode": {
    "name": "ipython",
    "version": 3
   },
   "file_extension": ".py",
   "mimetype": "text/x-python",
   "name": "python",
   "nbconvert_exporter": "python",
   "pygments_lexer": "ipython3",
   "version": "3.11.4"
  },
  "orig_nbformat": 4
 },
 "nbformat": 4,
 "nbformat_minor": 2
}
