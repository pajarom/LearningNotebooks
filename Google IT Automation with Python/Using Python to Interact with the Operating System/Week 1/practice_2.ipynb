{
 "cells": [
  {
   "cell_type": "code",
   "execution_count": 1,
   "metadata": {},
   "outputs": [
    {
     "name": "stdout",
     "output_type": "stream",
     "text": [
      "[[ 3 12  6]\n",
      " [36 60 48]]\n"
     ]
    }
   ],
   "source": [
    "#!/usr/bin/env python3\n",
    "import numpy as np\n",
    "\n",
    "def numpyArray():\n",
    "    x = np.array([[1, 2, 3], [4, 5, 6]], np.int32)\n",
    "    y = np.array([[3, 6, 2], [9, 12, 8]], np.int32)\n",
    "    return x * y\n",
    "\n",
    "print(numpyArray())\n"
   ]
  },
  {
   "cell_type": "code",
   "execution_count": 2,
   "metadata": {},
   "outputs": [
    {
     "ename": "NameError",
     "evalue": "name 'numpy' is not defined",
     "output_type": "error",
     "traceback": [
      "\u001b[1;31m---------------------------------------------------------------------------\u001b[0m",
      "\u001b[1;31mNameError\u001b[0m                                 Traceback (most recent call last)",
      "Cell \u001b[1;32mIn[2], line 6\u001b[0m\n\u001b[0;32m      3\u001b[0m     y \u001b[39m=\u001b[39m numpy\u001b[39m.\u001b[39marray([[\u001b[39m3\u001b[39m, \u001b[39m6\u001b[39m, \u001b[39m2\u001b[39m], [\u001b[39m9\u001b[39m, \u001b[39m12\u001b[39m, \u001b[39m8\u001b[39m]], np\u001b[39m.\u001b[39mint32)\n\u001b[0;32m      4\u001b[0m     \u001b[39mreturn\u001b[39;00m x \u001b[39m*\u001b[39m y\n\u001b[1;32m----> 6\u001b[0m \u001b[39mprint\u001b[39m(numpyArray())\n",
      "Cell \u001b[1;32mIn[2], line 3\u001b[0m, in \u001b[0;36mnumpyArray\u001b[1;34m()\u001b[0m\n\u001b[0;32m      1\u001b[0m \u001b[39mdef\u001b[39;00m \u001b[39mnumpyArray\u001b[39m():\n\u001b[0;32m      2\u001b[0m     x \u001b[39m=\u001b[39m np\u001b[39m.\u001b[39marray([[\u001b[39m1\u001b[39m, \u001b[39m2\u001b[39m, \u001b[39m3\u001b[39m], [\u001b[39m4\u001b[39m, \u001b[39m5\u001b[39m, \u001b[39m6\u001b[39m]], np\u001b[39m.\u001b[39mint32)\n\u001b[1;32m----> 3\u001b[0m     y \u001b[39m=\u001b[39m numpy\u001b[39m.\u001b[39marray([[\u001b[39m3\u001b[39m, \u001b[39m6\u001b[39m, \u001b[39m2\u001b[39m], [\u001b[39m9\u001b[39m, \u001b[39m12\u001b[39m, \u001b[39m8\u001b[39m]], np\u001b[39m.\u001b[39mint32)\n\u001b[0;32m      4\u001b[0m     \u001b[39mreturn\u001b[39;00m x \u001b[39m*\u001b[39m y\n",
      "\u001b[1;31mNameError\u001b[0m: name 'numpy' is not defined"
     ]
    }
   ],
   "source": [
    "def numpyArray():\n",
    "    x = np.array([[1, 2, 3], [4, 5, 6]], np.int32)\n",
    "    y = numpy.array([[3, 6, 2], [9, 12, 8]], np.int32)\n",
    "    return x * y\n",
    "\n",
    "print(numpyArray())"
   ]
  }
 ],
 "metadata": {
  "kernelspec": {
   "display_name": "Python 3",
   "language": "python",
   "name": "python3"
  },
  "language_info": {
   "codemirror_mode": {
    "name": "ipython",
    "version": 3
   },
   "file_extension": ".py",
   "mimetype": "text/x-python",
   "name": "python",
   "nbconvert_exporter": "python",
   "pygments_lexer": "ipython3",
   "version": "3.11.4"
  },
  "orig_nbformat": 4
 },
 "nbformat": 4,
 "nbformat_minor": 2
}
