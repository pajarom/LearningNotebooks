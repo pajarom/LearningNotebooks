{
 "cells": [
  {
   "cell_type": "code",
   "execution_count": null,
   "metadata": {},
   "outputs": [],
   "source": [
    "import unittest\n",
    "\n",
    "from validations import validate_user\n",
    "\n",
    "class TestStringMethods(unittest.TestCase):\n",
    "    def test_valid(self):\n",
    "        self.assertEqual(validate_user(\"validuser\", 3), True)\n",
    "    def test_too_short(self):\n",
    "        self.assertEqual(validate_user(\"inv\", 5), False)\n",
    "    def test_invalid_characters(self):\n",
    "        self.assertEqual(validate_user(\"invalid_user\", 1), False)\n",
    "    def test_invalid_minlen(self):\n",
    "        self.assertRaises(ValueError, validate_user, \"user\", -1)\n",
    "unittest.main()\n",
    "        "
   ]
  }
 ],
 "metadata": {
  "language_info": {
   "name": "python"
  },
  "orig_nbformat": 4
 },
 "nbformat": 4,
 "nbformat_minor": 2
}
