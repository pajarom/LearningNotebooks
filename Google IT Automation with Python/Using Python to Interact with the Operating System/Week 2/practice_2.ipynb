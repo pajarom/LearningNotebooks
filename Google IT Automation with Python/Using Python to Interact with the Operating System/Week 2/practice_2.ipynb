{
 "cells": [
  {
   "cell_type": "markdown",
   "metadata": {},
   "source": [
    "[1]"
   ]
  },
  {
   "cell_type": "code",
   "execution_count": 15,
   "metadata": {},
   "outputs": [
    {
     "ename": "FileNotFoundError",
     "evalue": "[WinError 2] The system cannot find the file specified: '/temp'",
     "output_type": "error",
     "traceback": [
      "\u001b[1;31m---------------------------------------------------------------------------\u001b[0m",
      "\u001b[1;31mFileNotFoundError\u001b[0m                         Traceback (most recent call last)",
      "Cell \u001b[1;32mIn[15], line 2\u001b[0m\n\u001b[0;32m      1\u001b[0m \u001b[39mimport\u001b[39;00m \u001b[39mos\u001b[39;00m\n\u001b[1;32m----> 2\u001b[0m os\u001b[39m.\u001b[39;49mchdir(\u001b[39m'\u001b[39;49m\u001b[39m/temp\u001b[39;49m\u001b[39m'\u001b[39;49m)\n\u001b[0;32m      3\u001b[0m \u001b[39mdef\u001b[39;00m \u001b[39mcreate_python_script\u001b[39m(filename):\n\u001b[0;32m      4\u001b[0m     comments \u001b[39m=\u001b[39m \u001b[39m\"\u001b[39m\u001b[39m# Start of a new Python program\u001b[39m\u001b[39m\"\u001b[39m\n",
      "\u001b[1;31mFileNotFoundError\u001b[0m: [WinError 2] The system cannot find the file specified: '/temp'"
     ]
    }
   ],
   "source": [
    "import os\n",
    "os.chdir('/temp')\n",
    "def create_python_script(filename):\n",
    "    comments = \"# Start of a new Python program\"\n",
    "    with open(filename, 'w') as file:\n",
    "        file.write(comments)\n",
    "    filesize = os.path.getsize(filename)\n",
    "    return(filesize)\n",
    "\n",
    "print(create_python_script(\"program.py\"))"
   ]
  },
  {
   "cell_type": "markdown",
   "metadata": {},
   "source": [
    "[2]"
   ]
  },
  {
   "cell_type": "code",
   "execution_count": 5,
   "metadata": {},
   "outputs": [
    {
     "name": "stdout",
     "output_type": "stream",
     "text": [
      "['script.py']\n"
     ]
    }
   ],
   "source": [
    "import os\n",
    "\n",
    "def new_directory(directory, filename):\n",
    "    # Before creating a new directory, check to see if it already exists\n",
    "    if os.path.isdir(directory) == False:\n",
    "        os.mkdir(directory)\n",
    "\n",
    "    # Create the new file inside of the new directory\n",
    "    os.chdir(directory)\n",
    "    with open (filename, \"w\") as file:\n",
    "        pass\n",
    "\n",
    "    # Return the list of files in the new directory\n",
    "    return os.listdir()\n",
    "\n",
    "print(new_directory(\"PythonPrograms\", \"script.py\"))"
   ]
  },
  {
   "cell_type": "markdown",
   "metadata": {},
   "source": [
    "[4] masih salah"
   ]
  },
  {
   "cell_type": "code",
   "execution_count": 4,
   "metadata": {},
   "outputs": [
    {
     "name": "stdout",
     "output_type": "stream",
     "text": [
      "2023-08-23\n"
     ]
    }
   ],
   "source": [
    "import os\n",
    "import datetime\n",
    "\n",
    "def file_date(filename):\n",
    "    # Create the file in the current directory\n",
    "    with open(filename, \"w\") as files:\n",
    "        pass\n",
    "    timestamp = os.path.getmtime(filename)\n",
    "    # Convert the timestamp into a readable format, then into a string\n",
    "    time_read = datetime.datetime.fromtimestamp(timestamp)\n",
    "    # Return just the date portion \n",
    "    # Hint: how many characters are in “yyyy-mm-dd”? \n",
    "    return (\"{}\".format(time_read.strftime(\"%Y-%m-%d\")))\n",
    "\n",
    "print(file_date(\"newfile.txt\")) \n",
    "# Should be today's date in the format of yyyy-mm-dd"
   ]
  },
  {
   "cell_type": "code",
   "execution_count": 2,
   "metadata": {},
   "outputs": [
    {
     "name": "stdout",
     "output_type": "stream",
     "text": [
      "2023-08-23\n"
     ]
    }
   ],
   "source": [
    "import os\n",
    "import datetime\n",
    "\n",
    "def file_date(filename):\n",
    "    # Create the file in the current directory\n",
    "    with open(filename, \"w\") as file:\n",
    "        pass\n",
    "    timestamp = os.path.getmtime(filename)\n",
    "    # Convert the timestamp into a readable format, then into a string\n",
    "    time_read = datetime.datetime.fromtimestamp(timestamp)\n",
    "    # Return just the date portion \n",
    "    # Format the date as yyyy-mm-dd\n",
    "    return time_read.strftime(\"%Y-%m-%d\")\n",
    "\n",
    "print(file_date(\"newfile.txt\")) \n",
    "# Should be today's date in the format of yyyy-mm-dd\n"
   ]
  },
  {
   "cell_type": "markdown",
   "metadata": {},
   "source": [
    "[5]"
   ]
  },
  {
   "cell_type": "code",
   "execution_count": null,
   "metadata": {},
   "outputs": [],
   "source": [
    "import os\n",
    "def parent_directory():\n",
    "    # Create a relative path to the parent \n",
    "    # of the current working directory \n",
    "    relative_parent = os.path.join(os.getcwd(), \"..\")\n",
    "\n",
    "    # Return the absolute path of the parent directory\n",
    "    return os.path.abspath(relative_parent)\n",
    "\n",
    "print(parent_directory())"
   ]
  }
 ],
 "metadata": {
  "kernelspec": {
   "display_name": "Python 3",
   "language": "python",
   "name": "python3"
  },
  "language_info": {
   "codemirror_mode": {
    "name": "ipython",
    "version": 3
   },
   "file_extension": ".py",
   "mimetype": "text/x-python",
   "name": "python",
   "nbconvert_exporter": "python",
   "pygments_lexer": "ipython3",
   "version": "3.11.4"
  },
  "orig_nbformat": 4
 },
 "nbformat": 4,
 "nbformat_minor": 2
}
