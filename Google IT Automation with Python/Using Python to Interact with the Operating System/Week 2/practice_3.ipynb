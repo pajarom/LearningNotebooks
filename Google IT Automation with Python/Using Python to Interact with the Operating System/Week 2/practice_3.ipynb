{
 "cells": [
  {
   "cell_type": "markdown",
   "metadata": {},
   "source": [
    "[1]"
   ]
  },
  {
   "cell_type": "code",
   "execution_count": 1,
   "metadata": {},
   "outputs": [
    {
     "name": "stdout",
     "output_type": "stream",
     "text": [
      "a pink carnation is annual\n",
      "a yellow daffodil is perennial\n",
      "a blue iris is perennial\n",
      "a red poinsettia is perennial\n",
      "a yellow sunflower is annual\n",
      "\n"
     ]
    }
   ],
   "source": [
    "import os\n",
    "import csv\n",
    "\n",
    "# Create a file with data in it\n",
    "def create_file(filename):\n",
    "    with open(filename, \"w\") as file:\n",
    "        file.write(\"name,color,type\\n\")\n",
    "        file.write(\"carnation,pink,annual\\n\")\n",
    "        file.write(\"daffodil,yellow,perennial\\n\")\n",
    "        file.write(\"iris,blue,perennial\\n\")\n",
    "        file.write(\"poinsettia,red,perennial\\n\")\n",
    "        file.write(\"sunflower,yellow,annual\\n\")\n",
    "\n",
    "\n",
    "# Read the file contents and format the information about each row\n",
    "def contents_of_file(filename):\n",
    "    return_string = \"\"\n",
    "\n",
    "    # Call the function to create the file \n",
    "    create_file(filename)\n",
    "\n",
    "    # Open the file\n",
    "    with open(filename, \"r\") as file:\n",
    "        # Read the rows of the file into a dictionary\n",
    "        read = csv.DictReader(file)\n",
    "        # Process each item of the dictionary\n",
    "        for row in read:\n",
    "            return_string += \"a {} {} is {}\\n\".format(row[\"color\"], row[\"name\"], row[\"type\"])\n",
    "    return return_string\n",
    "\n",
    "\n",
    "#Call the function\n",
    "print(contents_of_file(\"flowers.csv\"))"
   ]
  },
  {
   "cell_type": "markdown",
   "metadata": {},
   "source": [
    "[2]"
   ]
  },
  {
   "cell_type": "code",
   "execution_count": 2,
   "metadata": {},
   "outputs": [
    {
     "name": "stdout",
     "output_type": "stream",
     "text": [
      "a pink carnation is annual\n",
      "a yellow daffodil is perennial\n",
      "a blue iris is perennial\n",
      "a red poinsettia is perennial\n",
      "a yellow sunflower is annual\n",
      "\n"
     ]
    }
   ],
   "source": [
    "import os\n",
    "import csv\n",
    "\n",
    "# Create a file with data in it\n",
    "def create_file(filename):\n",
    "  with open(filename, \"w\") as file:\n",
    "    file.write(\"name,color,type\\n\")\n",
    "    file.write(\"carnation,pink,annual\\n\")\n",
    "    file.write(\"daffodil,yellow,perennial\\n\")\n",
    "    file.write(\"iris,blue,perennial\\n\")\n",
    "    file.write(\"poinsettia,red,perennial\\n\")\n",
    "    file.write(\"sunflower,yellow,annual\\n\")\n",
    "\n",
    "# Read the file contents and format the information about each row\n",
    "def contents_of_file(filename):\n",
    "  return_string = \"\"\n",
    "\n",
    "  # Call the function to create the file \n",
    "  create_file(filename)\n",
    "\n",
    "  # Open the file\n",
    "  with open(filename) as file:\n",
    "    # Read the rows of the file\n",
    "    rows = csv.DictReader(file)\n",
    "    # Process each row\n",
    "    for row in rows:\n",
    "      name, color, type = row[\"name\"], row[\"color\"], row[\"type\"]\n",
    "      # Format the return string for data rows only\n",
    "\n",
    "      return_string += \"a {} {} is {}\\n\".format(color, name, type)\n",
    "  return return_string\n",
    "\n",
    "#Call the function\n",
    "print(contents_of_file(\"flowers.csv\"))"
   ]
  }
 ],
 "metadata": {
  "kernelspec": {
   "display_name": "Python 3",
   "language": "python",
   "name": "python3"
  },
  "language_info": {
   "codemirror_mode": {
    "name": "ipython",
    "version": 3
   },
   "file_extension": ".py",
   "mimetype": "text/x-python",
   "name": "python",
   "nbconvert_exporter": "python",
   "pygments_lexer": "ipython3",
   "version": "3.11.4"
  },
  "orig_nbformat": 4
 },
 "nbformat": 4,
 "nbformat_minor": 2
}
